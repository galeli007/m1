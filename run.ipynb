{
 "cells": [
  {
   "cell_type": "code",
   "execution_count": null,
   "metadata": {
    "vscode": {
     "languageId": "plaintext"
    }
   },
   "outputs": [],
   "source": [
    "# Import necessary library\n",
    "import os\n",
    "\n",
    "# Check if requirements.txt file exists\n",
    "if os.path.isfile('requirements.txt'):\n",
    "    # Install packages from requirements.txt\n",
    "    !pip install -r requirements.txt\n",
    "else:\n",
    "    print(\"requirements.txt file not found.\")\n"
   ]
  },
  {
   "cell_type": "code",
   "execution_count": null,
   "metadata": {
    "vscode": {
     "languageId": "plaintext"
    }
   },
   "outputs": [],
   "source": [
    "!voila run test2.ipynb"
   ]
  }
 ],
 "metadata": {
  "language_info": {
   "name": "python"
  }
 },
 "nbformat": 4,
 "nbformat_minor": 2
}
